{
  "nbformat": 4,
  "nbformat_minor": 0,
  "metadata": {
    "colab": {
      "name": "20_salary_data_regression.ipynb",
      "provenance": [],
      "collapsed_sections": []
    },
    "kernelspec": {
      "display_name": "Python 3",
      "language": "python",
      "name": "python3"
    },
    "language_info": {
      "codemirror_mode": {
        "name": "ipython",
        "version": 3
      },
      "file_extension": ".py",
      "mimetype": "text/x-python",
      "name": "python",
      "nbconvert_exporter": "python",
      "pygments_lexer": "ipython3",
      "version": "3.7.4"
    }
  },
  "cells": [
    {
      "cell_type": "code",
      "metadata": {
        "id": "1OecDm3t7NAv"
      },
      "source": [
        "import numpy as np\n",
        "import pandas as pd\n",
        "import matplotlib.pyplot as plt\n",
        "import seaborn as sns\n",
        "%matplotlib inline"
      ],
      "execution_count": 1,
      "outputs": []
    },
    {
      "cell_type": "markdown",
      "metadata": {
        "id": "JTce036fBvVH"
      },
      "source": [
        "**EDA and Preprocessing**"
      ]
    },
    {
      "cell_type": "code",
      "metadata": {
        "id": "_wx_3ABG9OB8"
      },
      "source": [
        "dataset = pd.read_csv('Salary_Data.csv')"
      ],
      "execution_count": 2,
      "outputs": []
    },
    {
      "cell_type": "code",
      "metadata": {
        "id": "R0nRLIQv9Xmp",
        "outputId": "ba44f0b3-a052-48a8-d462-3fce2b9c174c",
        "colab": {
          "base_uri": "https://localhost:8080/",
          "height": 195
        }
      },
      "source": [
        "dataset.head()"
      ],
      "execution_count": 3,
      "outputs": [
        {
          "output_type": "execute_result",
          "data": {
            "text/html": [
              "<div>\n",
              "<style scoped>\n",
              "    .dataframe tbody tr th:only-of-type {\n",
              "        vertical-align: middle;\n",
              "    }\n",
              "\n",
              "    .dataframe tbody tr th {\n",
              "        vertical-align: top;\n",
              "    }\n",
              "\n",
              "    .dataframe thead th {\n",
              "        text-align: right;\n",
              "    }\n",
              "</style>\n",
              "<table border=\"1\" class=\"dataframe\">\n",
              "  <thead>\n",
              "    <tr style=\"text-align: right;\">\n",
              "      <th></th>\n",
              "      <th>YearsExperience</th>\n",
              "      <th>Salary</th>\n",
              "    </tr>\n",
              "  </thead>\n",
              "  <tbody>\n",
              "    <tr>\n",
              "      <th>0</th>\n",
              "      <td>1.1</td>\n",
              "      <td>39343.0</td>\n",
              "    </tr>\n",
              "    <tr>\n",
              "      <th>1</th>\n",
              "      <td>1.3</td>\n",
              "      <td>46205.0</td>\n",
              "    </tr>\n",
              "    <tr>\n",
              "      <th>2</th>\n",
              "      <td>1.5</td>\n",
              "      <td>37731.0</td>\n",
              "    </tr>\n",
              "    <tr>\n",
              "      <th>3</th>\n",
              "      <td>2.0</td>\n",
              "      <td>43525.0</td>\n",
              "    </tr>\n",
              "    <tr>\n",
              "      <th>4</th>\n",
              "      <td>2.2</td>\n",
              "      <td>39891.0</td>\n",
              "    </tr>\n",
              "  </tbody>\n",
              "</table>\n",
              "</div>"
            ],
            "text/plain": [
              "   YearsExperience   Salary\n",
              "0              1.1  39343.0\n",
              "1              1.3  46205.0\n",
              "2              1.5  37731.0\n",
              "3              2.0  43525.0\n",
              "4              2.2  39891.0"
            ]
          },
          "metadata": {
            "tags": []
          },
          "execution_count": 3
        }
      ]
    },
    {
      "cell_type": "code",
      "metadata": {
        "id": "Rl0EybSt9chX",
        "outputId": "7b585d31-3402-41ce-fe1f-6af793612129",
        "colab": {
          "base_uri": "https://localhost:8080/",
          "height": 195
        }
      },
      "source": [
        "dataset.tail()"
      ],
      "execution_count": 4,
      "outputs": [
        {
          "output_type": "execute_result",
          "data": {
            "text/html": [
              "<div>\n",
              "<style scoped>\n",
              "    .dataframe tbody tr th:only-of-type {\n",
              "        vertical-align: middle;\n",
              "    }\n",
              "\n",
              "    .dataframe tbody tr th {\n",
              "        vertical-align: top;\n",
              "    }\n",
              "\n",
              "    .dataframe thead th {\n",
              "        text-align: right;\n",
              "    }\n",
              "</style>\n",
              "<table border=\"1\" class=\"dataframe\">\n",
              "  <thead>\n",
              "    <tr style=\"text-align: right;\">\n",
              "      <th></th>\n",
              "      <th>YearsExperience</th>\n",
              "      <th>Salary</th>\n",
              "    </tr>\n",
              "  </thead>\n",
              "  <tbody>\n",
              "    <tr>\n",
              "      <th>25</th>\n",
              "      <td>9.0</td>\n",
              "      <td>105582.0</td>\n",
              "    </tr>\n",
              "    <tr>\n",
              "      <th>26</th>\n",
              "      <td>9.5</td>\n",
              "      <td>116969.0</td>\n",
              "    </tr>\n",
              "    <tr>\n",
              "      <th>27</th>\n",
              "      <td>9.6</td>\n",
              "      <td>112635.0</td>\n",
              "    </tr>\n",
              "    <tr>\n",
              "      <th>28</th>\n",
              "      <td>10.3</td>\n",
              "      <td>122391.0</td>\n",
              "    </tr>\n",
              "    <tr>\n",
              "      <th>29</th>\n",
              "      <td>10.5</td>\n",
              "      <td>121872.0</td>\n",
              "    </tr>\n",
              "  </tbody>\n",
              "</table>\n",
              "</div>"
            ],
            "text/plain": [
              "    YearsExperience    Salary\n",
              "25              9.0  105582.0\n",
              "26              9.5  116969.0\n",
              "27              9.6  112635.0\n",
              "28             10.3  122391.0\n",
              "29             10.5  121872.0"
            ]
          },
          "metadata": {
            "tags": []
          },
          "execution_count": 4
        }
      ]
    },
    {
      "cell_type": "code",
      "metadata": {
        "id": "O8bSjtSd9hkL",
        "outputId": "a49f28ac-df60-4f20-9c5f-9f46a6b489da",
        "colab": {
          "base_uri": "https://localhost:8080/",
          "height": 0
        }
      },
      "source": [
        "dataset.columns"
      ],
      "execution_count": 5,
      "outputs": [
        {
          "output_type": "execute_result",
          "data": {
            "text/plain": [
              "Index(['YearsExperience', 'Salary'], dtype='object')"
            ]
          },
          "metadata": {
            "tags": []
          },
          "execution_count": 5
        }
      ]
    },
    {
      "cell_type": "code",
      "metadata": {
        "id": "cBWl61Y49-rG",
        "outputId": "7e2ef989-34c1-42b5-ad3b-20d94abfb4e2",
        "colab": {
          "base_uri": "https://localhost:8080/",
          "height": 0
        }
      },
      "source": [
        "dataset.shape"
      ],
      "execution_count": 6,
      "outputs": [
        {
          "output_type": "execute_result",
          "data": {
            "text/plain": [
              "(30, 2)"
            ]
          },
          "metadata": {
            "tags": []
          },
          "execution_count": 6
        }
      ]
    },
    {
      "cell_type": "code",
      "metadata": {
        "id": "8Jh4kxcL-DEL",
        "outputId": "7519151e-db58-45b3-e333-7cb88192f6ef",
        "colab": {
          "base_uri": "https://localhost:8080/",
          "height": 284
        }
      },
      "source": [
        "dataset.describe()"
      ],
      "execution_count": 7,
      "outputs": [
        {
          "output_type": "execute_result",
          "data": {
            "text/html": [
              "<div>\n",
              "<style scoped>\n",
              "    .dataframe tbody tr th:only-of-type {\n",
              "        vertical-align: middle;\n",
              "    }\n",
              "\n",
              "    .dataframe tbody tr th {\n",
              "        vertical-align: top;\n",
              "    }\n",
              "\n",
              "    .dataframe thead th {\n",
              "        text-align: right;\n",
              "    }\n",
              "</style>\n",
              "<table border=\"1\" class=\"dataframe\">\n",
              "  <thead>\n",
              "    <tr style=\"text-align: right;\">\n",
              "      <th></th>\n",
              "      <th>YearsExperience</th>\n",
              "      <th>Salary</th>\n",
              "    </tr>\n",
              "  </thead>\n",
              "  <tbody>\n",
              "    <tr>\n",
              "      <th>count</th>\n",
              "      <td>30.000000</td>\n",
              "      <td>30.000000</td>\n",
              "    </tr>\n",
              "    <tr>\n",
              "      <th>mean</th>\n",
              "      <td>5.313333</td>\n",
              "      <td>76003.000000</td>\n",
              "    </tr>\n",
              "    <tr>\n",
              "      <th>std</th>\n",
              "      <td>2.837888</td>\n",
              "      <td>27414.429785</td>\n",
              "    </tr>\n",
              "    <tr>\n",
              "      <th>min</th>\n",
              "      <td>1.100000</td>\n",
              "      <td>37731.000000</td>\n",
              "    </tr>\n",
              "    <tr>\n",
              "      <th>25%</th>\n",
              "      <td>3.200000</td>\n",
              "      <td>56720.750000</td>\n",
              "    </tr>\n",
              "    <tr>\n",
              "      <th>50%</th>\n",
              "      <td>4.700000</td>\n",
              "      <td>65237.000000</td>\n",
              "    </tr>\n",
              "    <tr>\n",
              "      <th>75%</th>\n",
              "      <td>7.700000</td>\n",
              "      <td>100544.750000</td>\n",
              "    </tr>\n",
              "    <tr>\n",
              "      <th>max</th>\n",
              "      <td>10.500000</td>\n",
              "      <td>122391.000000</td>\n",
              "    </tr>\n",
              "  </tbody>\n",
              "</table>\n",
              "</div>"
            ],
            "text/plain": [
              "       YearsExperience         Salary\n",
              "count        30.000000      30.000000\n",
              "mean          5.313333   76003.000000\n",
              "std           2.837888   27414.429785\n",
              "min           1.100000   37731.000000\n",
              "25%           3.200000   56720.750000\n",
              "50%           4.700000   65237.000000\n",
              "75%           7.700000  100544.750000\n",
              "max          10.500000  122391.000000"
            ]
          },
          "metadata": {
            "tags": []
          },
          "execution_count": 7
        }
      ]
    },
    {
      "cell_type": "code",
      "metadata": {
        "id": "29SAt8pG-heq",
        "outputId": "91d226e4-e192-4185-e101-d8e786a3baf0",
        "colab": {
          "base_uri": "https://localhost:8080/",
          "height": 0
        }
      },
      "source": [
        "dataset.isnull().sum()"
      ],
      "execution_count": 8,
      "outputs": [
        {
          "output_type": "execute_result",
          "data": {
            "text/plain": [
              "YearsExperience    0\n",
              "Salary             0\n",
              "dtype: int64"
            ]
          },
          "metadata": {
            "tags": []
          },
          "execution_count": 8
        }
      ]
    },
    {
      "cell_type": "code",
      "metadata": {
        "id": "liv_5We2AfUO",
        "outputId": "d1447687-db04-42e1-cfae-ab3ab221797d",
        "colab": {
          "base_uri": "https://localhost:8080/",
          "height": 0
        }
      },
      "source": [
        "dataset.info()"
      ],
      "execution_count": 9,
      "outputs": [
        {
          "output_type": "stream",
          "text": [
            "<class 'pandas.core.frame.DataFrame'>\n",
            "RangeIndex: 30 entries, 0 to 29\n",
            "Data columns (total 2 columns):\n",
            " #   Column           Non-Null Count  Dtype  \n",
            "---  ------           --------------  -----  \n",
            " 0   YearsExperience  30 non-null     float64\n",
            " 1   Salary           30 non-null     float64\n",
            "dtypes: float64(2)\n",
            "memory usage: 608.0 bytes\n"
          ],
          "name": "stdout"
        }
      ]
    },
    {
      "cell_type": "code",
      "metadata": {
        "id": "1PlSTBjpAn6S",
        "outputId": "b101f264-d8f5-4fa5-8829-e94fa898f09e",
        "colab": {
          "base_uri": "https://localhost:8080/",
          "height": 766
        }
      },
      "source": [
        "dataset.hist(bins=10, figsize=(16,12))"
      ],
      "execution_count": 10,
      "outputs": [
        {
          "output_type": "execute_result",
          "data": {
            "text/plain": [
              "array([[<matplotlib.axes._subplots.AxesSubplot object at 0x7fc4ed5940b8>,\n",
              "        <matplotlib.axes._subplots.AxesSubplot object at 0x7fc4ed566240>]],\n",
              "      dtype=object)"
            ]
          },
          "metadata": {
            "tags": []
          },
          "execution_count": 10
        },
        {
          "output_type": "display_data",
          "data": {
            "image/png": "[encoded data removed]",
            "text/plain": [
              "<Figure size 1152x864 with 2 Axes>"
            ]
          },
          "metadata": {
            "tags": [],
            "needs_background": "light"
          }
        }
      ]
    },
    {
      "cell_type": "code",
      "metadata": {
        "id": "j2budX26-yCm",
        "outputId": "b1ce497a-4b9e-455f-b059-0df7ddb04ffe",
        "colab": {
          "base_uri": "https://localhost:8080/",
          "height": 106
        }
      },
      "source": [
        "dataset.corr()"
      ],
      "execution_count": 11,
      "outputs": [
        {
          "output_type": "execute_result",
          "data": {
            "text/html": [
              "<div>\n",
              "<style scoped>\n",
              "    .dataframe tbody tr th:only-of-type {\n",
              "        vertical-align: middle;\n",
              "    }\n",
              "\n",
              "    .dataframe tbody tr th {\n",
              "        vertical-align: top;\n",
              "    }\n",
              "\n",
              "    .dataframe thead th {\n",
              "        text-align: right;\n",
              "    }\n",
              "</style>\n",
              "<table border=\"1\" class=\"dataframe\">\n",
              "  <thead>\n",
              "    <tr style=\"text-align: right;\">\n",
              "      <th></th>\n",
              "      <th>YearsExperience</th>\n",
              "      <th>Salary</th>\n",
              "    </tr>\n",
              "  </thead>\n",
              "  <tbody>\n",
              "    <tr>\n",
              "      <th>YearsExperience</th>\n",
              "      <td>1.000000</td>\n",
              "      <td>0.978242</td>\n",
              "    </tr>\n",
              "    <tr>\n",
              "      <th>Salary</th>\n",
              "      <td>0.978242</td>\n",
              "      <td>1.000000</td>\n",
              "    </tr>\n",
              "  </tbody>\n",
              "</table>\n",
              "</div>"
            ],
            "text/plain": [
              "                 YearsExperience    Salary\n",
              "YearsExperience         1.000000  0.978242\n",
              "Salary                  0.978242  1.000000"
            ]
          },
          "metadata": {
            "tags": []
          },
          "execution_count": 11
        }
      ]
    },
    {
      "cell_type": "code",
      "metadata": {
        "id": "Eby5oUgi-t2w",
        "outputId": "597cbb07-ba52-4f0b-fd50-280e124206e8",
        "colab": {
          "base_uri": "https://localhost:8080/",
          "height": 477
        }
      },
      "source": [
        "plt.figure(figsize=(10,7.5))\n",
        "sns.heatmap(dataset.corr(), cmap = 'BuPu', annot = True)"
      ],
      "execution_count": 12,
      "outputs": [
        {
          "output_type": "execute_result",
          "data": {
            "text/plain": [
              "<matplotlib.axes._subplots.AxesSubplot at 0x7fc4ed5c1b38>"
            ]
          },
          "metadata": {
            "tags": []
          },
          "execution_count": 12
        },
        {
          "output_type": "display_data",
          "data": {
            "image/png": "[encoded data removed]",
            "text/plain": [
              "<Figure size 720x540 with 2 Axes>"
            ]
          },
          "metadata": {
            "tags": [],
            "needs_background": "light"
          }
        }
      ]
    },
    {
      "cell_type": "code",
      "metadata": {
        "id": "5FDUZXwMA3Mb",
        "outputId": "d40c035d-3c12-49ad-e384-3d18fb5bd5e7",
        "colab": {
          "base_uri": "https://localhost:8080/",
          "height": 391
        }
      },
      "source": [
        "sns.pairplot(dataset)"
      ],
      "execution_count": 13,
      "outputs": [
        {
          "output_type": "execute_result",
          "data": {
            "text/plain": [
              "<seaborn.axisgrid.PairGrid at 0x7fc4f7ef6828>"
            ]
          },
          "metadata": {
            "tags": []
          },
          "execution_count": 13
        },
        {
          "output_type": "display_data",
          "data": {
            "image/png": "[encoded data removed]",
            "text/plain": [
              "<Figure size 360x360 with 6 Axes>"
            ]
          },
          "metadata": {
            "tags": [],
            "needs_background": "light"
          }
        }
      ]
    },
    {
      "cell_type": "markdown",
      "metadata": {
        "id": "w-iquZ4IBxZh"
      },
      "source": [
        "**Data Preprocessing**"
      ]
    },
    {
      "cell_type": "code",
      "metadata": {
        "id": "mchsAGek0uEX"
      },
      "source": [
        "X = dataset.iloc[:,:-1].values\n",
        "y = dataset.iloc[:,-1].values"
      ],
      "execution_count": 14,
      "outputs": []
    },
    {
      "cell_type": "code",
      "metadata": {
        "id": "FEzxmKpvCGGg",
        "outputId": "e8c32d8f-2c94-42e3-fde3-d1dbafde78f3",
        "colab": {
          "base_uri": "https://localhost:8080/",
          "height": 0
        }
      },
      "source": [
        "from sklearn.model_selection import train_test_split\n",
        "X_train, X_test, y_train, y_test = train_test_split(X, y, test_size = 0.3, random_state =0)\n",
        "print('Splitted Train-Test dataset details:')\n",
        "print('Num of dataset in X -Train:', np.shape(X_train))\n",
        "print('Num of dataset in Y -Train:', np.shape(y_train))\n",
        "print('Num of dataset in X -Test:', np.shape(X_test))\n",
        "print('Num of dataset in y -Test:', np.shape(y_test))"
      ],
      "execution_count": 15,
      "outputs": [
        {
          "output_type": "stream",
          "text": [
            "Splitted Train-Test dataset details:\n",
            "Num of dataset in X -Train: (21, 1)\n",
            "Num of dataset in Y -Train: (21,)\n",
            "Num of dataset in X -Test: (9, 1)\n",
            "Num of dataset in y -Test: (9,)\n"
          ],
          "name": "stdout"
        }
      ]
    },
    {
      "cell_type": "code",
      "metadata": {
        "id": "12mQx_7m073I"
      },
      "source": [
        "from sklearn.preprocessing import StandardScaler\n",
        "sc = StandardScaler()\n",
        "X_train = sc.fit_transform(X_train)\n",
        "X_test = sc.transform(X_test)"
      ],
      "execution_count": 16,
      "outputs": []
    },
    {
      "cell_type": "code",
      "metadata": {
        "id": "prARABzJvd-V"
      },
      "source": [
        "from sklearn.decomposition import PCA\n",
        "pca = PCA()\n",
        "X_train = pca.fit_transform(X_train)\n",
        "X_test = pca.transform(X_test)"
      ],
      "execution_count": 17,
      "outputs": []
    },
    {
      "cell_type": "code",
      "metadata": {
        "id": "AJMDCA2g2idQ",
        "outputId": "0eb480f3-917f-4f2c-b01a-ca8f07b3b187",
        "colab": {
          "base_uri": "https://localhost:8080/",
          "height": 0
        }
      },
      "source": [
        "print('Explained variation: {}'.format(pca.explained_variance_ratio_))"
      ],
      "execution_count": 18,
      "outputs": [
        {
          "output_type": "stream",
          "text": [
            "Explained variation: [1.]\n"
          ],
          "name": "stdout"
        }
      ]
    },
    {
      "cell_type": "markdown",
      "metadata": {
        "id": "558PCh3tC7I4"
      },
      "source": [
        "**Modeling**"
      ]
    },
    {
      "cell_type": "code",
      "metadata": {
        "id": "fh_CcO0bC3Fx",
        "outputId": "cef3c1ef-fd05-44c6-a977-c8a0b58c4836",
        "colab": {
          "base_uri": "https://localhost:8080/",
          "height": 748
        }
      },
      "source": [
        "from sklearn.linear_model import LinearRegression\n",
        "regressor = LinearRegression()\n",
        "regressor.fit(X_train, y_train)\n",
        "\n",
        "y_pred = regressor.predict(X_test)\n",
        "\n",
        "print('Intercept',regressor.intercept_)\n",
        "print('Coefficients',regressor.coef_)\n",
        "\n",
        "comparision_linear = pd.DataFrame({'Actual value': y_test, 'Predicted value': y_pred})\n",
        "print(comparision_linear)\n",
        "\n",
        "df = comparision_linear.head(30)\n",
        "df.plot(kind = 'bar',figsize = (10,8))\n",
        "\n",
        "from sklearn import metrics\n",
        "print('Mean Absolute Error (MAE):', metrics.mean_absolute_error(y_test, y_pred))\n",
        "print('Mean Squared Error (MSE):', metrics.mean_squared_error(y_test, y_pred))\n",
        "print('Root Mean Squared Error (RMSE):', np.sqrt(metrics.mean_squared_error(y_test, y_pred)))\n",
        "print('R^2 Score:', metrics.r2_score(y_test, y_pred))"
      ],
      "execution_count": 19,
      "outputs": [
        {
          "output_type": "stream",
          "text": [
            "Intercept 72464.38095238095\n",
            "Coefficients [23964.60022188]\n",
            "   Actual value  Predicted value\n",
            "0       37731.0     40817.783270\n",
            "1      122391.0    123188.082589\n",
            "2       57081.0     65154.462615\n",
            "3       63218.0     63282.410357\n",
            "4      116969.0    115699.873560\n",
            "5      109431.0    108211.664531\n",
            "6      112635.0    116635.899689\n",
            "7       55794.0     64218.436486\n",
            "8       83088.0     76386.776158\n",
            "Mean Absolute Error (MAE): 3737.417861878897\n",
            "Mean Squared Error (MSE): 23370078.800832983\n",
            "Root Mean Squared Error (RMSE): 4834.260936361729\n",
            "R^2 Score: 0.9740993407213511\n"
          ],
          "name": "stdout"
        },
        {
          "output_type": "display_data",
          "data": {
            "image/png": "[encoded data removed]",
            "text/plain": [
              "<Figure size 720x576 with 1 Axes>"
            ]
          },
          "metadata": {
            "tags": [],
            "needs_background": "light"
          }
        }
      ]
    },
    {
      "cell_type": "code",
      "metadata": {
        "id": "lO6JEc89aFPW",
        "outputId": "1b0c1ae2-3831-4345-db14-e753bb292bc2",
        "colab": {
          "base_uri": "https://localhost:8080/",
          "height": 714
        }
      },
      "source": [
        "from sklearn.preprocessing import PolynomialFeatures\n",
        "regressor1 = PolynomialFeatures(degree = 2)\n",
        "X_poly = regressor1.fit_transform (X_train)\n",
        "regressor.fit(X_poly, y_train)\n",
        "\n",
        "y_pred1 = regressor.predict(regressor1.transform(X_test))\n",
        "\n",
        "comparision_poly = pd.DataFrame({'Actual value': y_test, 'Predicted value': y_pred1})\n",
        "print(comparision_poly)\n",
        "\n",
        "df1 = comparision_poly.head(30)\n",
        "df1.plot(kind = 'bar',figsize = (10,8))\n",
        "\n",
        "print('Mean Absolute Error (MAE):', metrics.mean_absolute_error(y_test, y_pred1))\n",
        "print('Mean Squared Error (MSE):', metrics.mean_squared_error(y_test, y_pred1))\n",
        "print('Root Mean Squared Error (RMSE):', np.sqrt(metrics.mean_squared_error(y_test, y_pred1)))\n",
        "print('R^2 Score:', metrics.r2_score(y_test, y_pred1))"
      ],
      "execution_count": 20,
      "outputs": [
        {
          "output_type": "stream",
          "text": [
            "   Actual value  Predicted value\n",
            "0       37731.0     41323.419031\n",
            "1      122391.0    124124.638079\n",
            "2       57081.0     64867.897778\n",
            "3       63218.0     63029.403846\n",
            "4      116969.0    116232.185431\n",
            "5      109431.0    108412.746603\n",
            "6      112635.0    117214.749069\n",
            "7       55794.0     63948.080391\n",
            "8       83088.0     75994.692008\n",
            "Mean Absolute Error (MAE): 3875.9729399528896\n",
            "Mean Squared Error (MSE): 23993355.945680752\n",
            "Root Mean Squared Error (RMSE): 4898.301332674497\n",
            "R^2 Score: 0.9734085733044994\n"
          ],
          "name": "stdout"
        },
        {
          "output_type": "display_data",
          "data": {
            "image/png": "[encoded data removed]",
            "text/plain": [
              "<Figure size 720x576 with 1 Axes>"
            ]
          },
          "metadata": {
            "tags": [],
            "needs_background": "light"
          }
        }
      ]
    },
    {
      "cell_type": "code",
      "metadata": {
        "id": "fWU1vDdIeWoz",
        "outputId": "d34cb449-5697-4b52-9710-19910a3f22c0",
        "colab": {
          "base_uri": "https://localhost:8080/",
          "height": 714
        }
      },
      "source": [
        "from sklearn.svm import SVR\n",
        "regressor2 = SVR(kernel = 'poly', degree=4)\n",
        "regressor2.fit(X_train, y_train)\n",
        "\n",
        "y_pred2 = regressor2.predict(X_test)\n",
        "\n",
        "comparision_svr = pd.DataFrame({'Actual value': y_test, 'Predicted value': y_pred2})\n",
        "print(comparision_svr)\n",
        "\n",
        "df2 = comparision_svr.head(30)\n",
        "df2.plot(kind = 'bar',figsize = (10,8))\n",
        "\n",
        "print('Mean Absolute Error (MAE):', metrics.mean_absolute_error(y_test, y_pred2))\n",
        "print('Mean Squared Error (MSE):', metrics.mean_squared_error(y_test, y_pred2))\n",
        "print('Root Mean Squared Error (RMSE):', np.sqrt(metrics.mean_squared_error(y_test, y_pred2)))\n",
        "print('R^2 Score:', metrics.r2_score(y_test, y_pred2))"
      ],
      "execution_count": 21,
      "outputs": [
        {
          "output_type": "stream",
          "text": [
            "   Actual value  Predicted value\n",
            "0       37731.0     64511.575231\n",
            "1      122391.0     64908.650816\n",
            "2       57081.0     64440.869137\n",
            "3       63218.0     64441.169776\n",
            "4      116969.0     64687.696579\n",
            "5      109431.0     64556.107995\n",
            "6      112635.0     64709.793583\n",
            "7       55794.0     64440.994133\n",
            "8       83088.0     64440.684016\n",
            "Mean Absolute Error (MAE): 29469.075031938657\n",
            "Mean Squared Error (MSE): 1282610269.5967863\n",
            "Root Mean Squared Error (RMSE): 35813.54868756776\n",
            "R^2 Score: -0.42149506055317065\n"
          ],
          "name": "stdout"
        },
        {
          "output_type": "display_data",
          "data": {
            "image/png": "[encoded data removed]",
            "text/plain": [
              "<Figure size 720x576 with 1 Axes>"
            ]
          },
          "metadata": {
            "tags": [],
            "needs_background": "light"
          }
        }
      ]
    },
    {
      "cell_type": "code",
      "metadata": {
        "id": "HgVrjvPIuA5M",
        "outputId": "234fa395-bb9b-4509-898b-73ed8700c7ca",
        "colab": {
          "base_uri": "https://localhost:8080/",
          "height": 714
        }
      },
      "source": [
        "regressor_2 = SVR(kernel = 'rbf')\n",
        "regressor_2.fit(X_train, y_train)\n",
        "\n",
        "y_pred_2 = regressor_2.predict(X_test)\n",
        "\n",
        "comparision_svr_ = pd.DataFrame({'Actual value': y_test, 'Predicted value': y_pred_2})\n",
        "print(comparision_svr_)\n",
        "\n",
        "df_2 = comparision_svr_.head(30)\n",
        "df_2.plot(kind = 'bar',figsize = (10,8))\n",
        "\n",
        "print('Mean Absolute Error (MAE):', metrics.mean_absolute_error(y_test, y_pred_2))\n",
        "print('Mean Squared Error (MSE):', metrics.mean_squared_error(y_test, y_pred_2))\n",
        "print('Root Mean Squared Error (RMSE):', np.sqrt(metrics.mean_squared_error(y_test, y_pred_2)))\n",
        "print('R^2 Score:', metrics.r2_score(y_test, y_pred_2))"
      ],
      "execution_count": 22,
      "outputs": [
        {
          "output_type": "stream",
          "text": [
            "   Actual value  Predicted value\n",
            "0       37731.0     64444.581552\n",
            "1      122391.0     64454.405268\n",
            "2       57081.0     64447.858572\n",
            "3       63218.0     64447.100504\n",
            "4      116969.0     64455.575670\n",
            "5      109431.0     64456.669275\n",
            "6      112635.0     64455.428525\n",
            "7       55794.0     64447.472791\n",
            "8       83088.0     64452.853905\n",
            "Mean Absolute Error (MAE): 29578.00897510285\n",
            "Mean Squared Error (MSE): 1294424252.1802988\n",
            "Root Mean Squared Error (RMSE): 35978.107957205015\n",
            "R^2 Score: -0.434588295720548\n"
          ],
          "name": "stdout"
        },
        {
          "output_type": "display_data",
          "data": {
            "image/png": "[encoded data removed]",
            "text/plain": [
              "<Figure size 720x576 with 1 Axes>"
            ]
          },
          "metadata": {
            "tags": [],
            "needs_background": "light"
          }
        }
      ]
    },
    {
      "cell_type": "code",
      "metadata": {
        "id": "oV072Q6qhGqS",
        "outputId": "a392d0e4-3c3e-4222-ae51-bbb4ff13a837",
        "colab": {
          "base_uri": "https://localhost:8080/",
          "height": 714
        }
      },
      "source": [
        "from sklearn.tree import DecisionTreeRegressor\n",
        "regressor4 = DecisionTreeRegressor(max_depth=3, random_state=0)\n",
        "regressor4.fit(X_train, y_train)\n",
        "\n",
        "y_pred4 = regressor4.predict(X_test)\n",
        "\n",
        "comparision_dt = pd.DataFrame({'Actual value': y_test, 'Predicted value': y_pred4})\n",
        "print(comparision_dt)\n",
        "\n",
        "df4 = comparision_dt.head(30)\n",
        "df4.plot(kind = 'bar',figsize = (10,8))\n",
        "\n",
        "print('Mean Absolute Error (MAE):', metrics.mean_absolute_error(y_test, y_pred4))\n",
        "print('Mean Squared Error (MSE):', metrics.mean_squared_error(y_test, y_pred4))\n",
        "print('Root Mean Squared Error (RMSE):', np.sqrt(metrics.mean_squared_error(y_test, y_pred4)))\n",
        "print('R^2 Score:', metrics.r2_score(y_test, y_pred4))"
      ],
      "execution_count": 23,
      "outputs": [
        {
          "output_type": "stream",
          "text": [
            "   Actual value  Predicted value\n",
            "0       37731.0     43207.000000\n",
            "1      122391.0    121872.000000\n",
            "2       57081.0     58705.571429\n",
            "3       63218.0     58705.571429\n",
            "4      116969.0    109697.000000\n",
            "5      109431.0    109697.000000\n",
            "6      112635.0    109697.000000\n",
            "7       55794.0     58705.571429\n",
            "8       83088.0     66983.500000\n",
            "Mean Absolute Error (MAE): 4624.896825396825\n",
            "Mean Squared Error (MSE): 42519325.93027211\n",
            "Root Mean Squared Error (RMSE): 6520.684467927589\n",
            "R^2 Score: 0.9528765571112003\n"
          ],
          "name": "stdout"
        },
        {
          "output_type": "display_data",
          "data": {
            "image/png": "[encoded data removed]",
            "text/plain": [
              "<Figure size 720x576 with 1 Axes>"
            ]
          },
          "metadata": {
            "tags": [],
            "needs_background": "light"
          }
        }
      ]
    },
    {
      "cell_type": "code",
      "metadata": {
        "id": "zxI8DhK4gV4s",
        "outputId": "06e29808-33aa-48e0-bb90-a08cfbd5e64f",
        "colab": {
          "base_uri": "https://localhost:8080/",
          "height": 714
        }
      },
      "source": [
        "from sklearn.ensemble import RandomForestRegressor\n",
        "regressor3 = RandomForestRegressor(n_estimators=30, max_depth = 7, random_state = 0)\n",
        "regressor3.fit(X_train, y_train)\n",
        "\n",
        "y_pred3 = regressor3.predict(X_test)\n",
        "\n",
        "comparision_rf = pd.DataFrame({'Actual value': y_test, 'Predicted value': y_pred3})\n",
        "print(comparision_rf)\n",
        "\n",
        "df3 = comparision_rf.head(30)\n",
        "df3.plot(kind = 'bar',figsize = (10,8))\n",
        "\n",
        "print('Mean Absolute Error (MAE):', metrics.mean_absolute_error(y_test, y_pred3))\n",
        "print('Mean Squared Error (MSE):', metrics.mean_squared_error(y_test, y_pred3))\n",
        "print('Root Mean Squared Error (RMSE):', np.sqrt(metrics.mean_squared_error(y_test, y_pred3)))\n",
        "print('R^2 Score:', metrics.r2_score(y_test, y_pred3))"
      ],
      "execution_count": 24,
      "outputs": [
        {
          "output_type": "stream",
          "text": [
            "   Actual value  Predicted value\n",
            "0       37731.0     44912.500000\n",
            "1      122391.0    116042.000000\n",
            "2       57081.0     58992.411111\n",
            "3       63218.0     57532.711111\n",
            "4      116969.0    110612.000000\n",
            "5      109431.0    106861.400000\n",
            "6      112635.0    110612.000000\n",
            "7       55794.0     57532.711111\n",
            "8       83088.0     68782.666667\n",
            "Mean Absolute Error (MAE): 5346.760493827162\n",
            "Mean Squared Error (MSE): 42959138.41127571\n",
            "Root Mean Squared Error (RMSE): 6554.322116838301\n",
            "R^2 Score: 0.9523891204485321\n"
          ],
          "name": "stdout"
        },
        {
          "output_type": "display_data",
          "data": {
            "image/png": "[encoded data removed]",
            "text/plain": [
              "<Figure size 720x576 with 1 Axes>"
            ]
          },
          "metadata": {
            "tags": [],
            "needs_background": "light"
          }
        }
      ]
    },
    {
      "cell_type": "code",
      "metadata": {
        "id": "9w7iZbrz-3np",
        "outputId": "177bc3cc-b726-4f3d-892f-f0eecbf345bc",
        "colab": {
          "base_uri": "https://localhost:8080/",
          "height": 714
        }
      },
      "source": [
        "from sklearn.linear_model import LogisticRegression\n",
        "regressor4 = LogisticRegression(random_state = 0)\n",
        "regressor4.fit(X_train, y_train)\n",
        "\n",
        "y_pred4 = regressor4.predict(X_test)\n",
        "\n",
        "comparision_logreg = pd.DataFrame({'Actual value': y_test, 'Predicted value': y_pred4})\n",
        "print(comparision_logreg)\n",
        "\n",
        "df4 = comparision_rf.head(30)\n",
        "df4.plot(kind = 'bar',figsize = (10,8))\n",
        "\n",
        "print('Mean Absolute Error (MAE):', metrics.mean_absolute_error(y_test, y_pred4))\n",
        "print('Mean Squared Error (MSE):', metrics.mean_squared_error(y_test, y_pred4))\n",
        "print('Root Mean Squared Error (RMSE):', np.sqrt(metrics.mean_squared_error(y_test, y_pred4)))\n",
        "print('R^2 Score:', metrics.r2_score(y_test, y_pred4))"
      ],
      "execution_count": 25,
      "outputs": [
        {
          "output_type": "stream",
          "text": [
            "   Actual value  Predicted value\n",
            "0       37731.0          39343.0\n",
            "1      122391.0         121872.0\n",
            "2       57081.0          64445.0\n",
            "3       63218.0          56642.0\n",
            "4      116969.0         121872.0\n",
            "5      109431.0         121872.0\n",
            "6      112635.0         121872.0\n",
            "7       55794.0          60150.0\n",
            "8       83088.0          81363.0\n",
            "Mean Absolute Error (MAE): 5414.777777777777\n",
            "Mean Squared Error (MSE): 42936733.0\n",
            "Root Mean Squared Error (RMSE): 6552.612685028774\n",
            "R^2 Score: 0.9524139519832648\n"
          ],
          "name": "stdout"
        },
        {
          "output_type": "display_data",
          "data": {
            "image/png": "[encoded data removed]",
            "text/plain": [
              "<Figure size 720x576 with 1 Axes>"
            ]
          },
          "metadata": {
            "tags": [],
            "needs_background": "light"
          }
        }
      ]
    },
    {
      "cell_type": "code",
      "metadata": {
        "id": "ugf18PvdAL_y",
        "outputId": "41fbab69-e917-411d-9082-9b96b6f777a4",
        "colab": {
          "base_uri": "https://localhost:8080/",
          "height": 714
        }
      },
      "source": [
        "from sklearn.linear_model import Ridge\n",
        "regressor5 = Ridge()\n",
        "regressor5.fit(X_train, y_train)\n",
        "\n",
        "y_pred5 = regressor5.predict(X_test)\n",
        "\n",
        "comparision_ridge = pd.DataFrame({'Actual value': y_test, 'Predicted value': y_pred5})\n",
        "print(comparision_ridge)\n",
        "\n",
        "df5 = comparision_ridge.head(30)\n",
        "df5.plot(kind = 'bar',figsize = (10,8))\n",
        "\n",
        "print('Mean Absolute Error (MAE):', metrics.mean_absolute_error(y_test, y_pred5))\n",
        "print('Mean Squared Error (MSE):', metrics.mean_squared_error(y_test, y_pred5))\n",
        "print('Root Mean Squared Error (RMSE):', np.sqrt(metrics.mean_squared_error(y_test, y_pred5)))\n",
        "print('R^2 Score:', metrics.r2_score(y_test, y_pred5))"
      ],
      "execution_count": 26,
      "outputs": [
        {
          "output_type": "stream",
          "text": [
            "   Actual value  Predicted value\n",
            "0       37731.0     42256.264983\n",
            "1      122391.0    120882.459787\n",
            "2       57081.0     65486.731630\n",
            "3       63218.0     63699.772657\n",
            "4      116969.0    113734.623896\n",
            "5      109431.0    106586.788005\n",
            "6      112635.0    114628.103382\n",
            "7       55794.0     64593.252144\n",
            "8       83088.0     76208.485467\n",
            "Mean Absolute Error (MAE): 4296.863071261705\n",
            "Mean Squared Error (MSE): 26768877.34623702\n",
            "Root Mean Squared Error (RMSE): 5173.864836487035\n",
            "R^2 Score: 0.9703325103297419\n"
          ],
          "name": "stdout"
        },
        {
          "output_type": "display_data",
          "data": {
            "image/png": "[encoded data removed]",
            "text/plain": [
              "<Figure size 720x576 with 1 Axes>"
            ]
          },
          "metadata": {
            "tags": [],
            "needs_background": "light"
          }
        }
      ]
    },
    {
      "cell_type": "code",
      "metadata": {
        "id": "1pDcBZdWAvIX",
        "outputId": "83c20f12-4b73-45a7-fcc4-59b171c30125",
        "colab": {
          "base_uri": "https://localhost:8080/",
          "height": 714
        }
      },
      "source": [
        "from sklearn.linear_model import Lasso\n",
        "regressor6 = Lasso()\n",
        "regressor6.fit(X_train, y_train)\n",
        "\n",
        "y_pred6 = regressor6.predict(X_test)\n",
        "\n",
        "comparision_lasso = pd.DataFrame({'Actual value': y_test, 'Predicted value': y_pred6})\n",
        "print(comparision_lasso)\n",
        "\n",
        "df6 = comparision_lasso.head(30)\n",
        "df6.plot(kind = 'bar',figsize = (10,8))\n",
        "\n",
        "print('Mean Absolute Error (MAE):', metrics.mean_absolute_error(y_test, y_pred6))\n",
        "print('Mean Squared Error (MSE):', metrics.mean_squared_error(y_test, y_pred6))\n",
        "print('Root Mean Squared Error (RMSE):', np.sqrt(metrics.mean_squared_error(y_test, y_pred6)))\n",
        "print('R^2 Score:', metrics.r2_score(y_test, y_pred6))"
      ],
      "execution_count": 27,
      "outputs": [
        {
          "output_type": "stream",
          "text": [
            "   Actual value  Predicted value\n",
            "0       37731.0     40819.103827\n",
            "1      122391.0    123185.965979\n",
            "2       57081.0     65154.767644\n",
            "3       63218.0     63282.793505\n",
            "4      116969.0    115698.069420\n",
            "5      109431.0    108210.172861\n",
            "6      112635.0    116634.056490\n",
            "7       55794.0     64218.780575\n",
            "8       83088.0     76386.612483\n",
            "Mean Absolute Error (MAE): 3737.6236950276507\n",
            "Mean Squared Error (MSE): 23371326.328357305\n",
            "Root Mean Squared Error (RMSE): 4834.3899644481835\n",
            "R^2 Score: 0.974097958107898\n"
          ],
          "name": "stdout"
        },
        {
          "output_type": "display_data",
          "data": {
            "image/png": "[encoded data removed]",
            "text/plain": [
              "<Figure size 720x576 with 1 Axes>"
            ]
          },
          "metadata": {
            "tags": [],
            "needs_background": "light"
          }
        }
      ]
    }
  ]
}